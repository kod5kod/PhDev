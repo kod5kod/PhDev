{
 "cells": [
  {
   "cell_type": "code",
   "execution_count": 41,
   "id": "instrumental-millennium",
   "metadata": {},
   "outputs": [],
   "source": [
    "import sys,os\n",
    "from notebooktoall.transform import transform_notebook\n",
    "import subprocess"
   ]
  },
  {
   "cell_type": "code",
   "execution_count": 49,
   "id": "drawn-addition",
   "metadata": {},
   "outputs": [],
   "source": [
    "path = \"/Users/leecarlin/Downloads/52002PS2/\"\n",
    "\n",
    "exe = 'ipython nbconvert --to html {}'"
   ]
  },
  {
   "cell_type": "code",
   "execution_count": null,
   "id": "insured-narrow",
   "metadata": {},
   "outputs": [],
   "source": []
  },
  {
   "cell_type": "code",
   "execution_count": 51,
   "id": "great-environment",
   "metadata": {},
   "outputs": [
    {
     "name": "stdout",
     "output_type": "stream",
     "text": [
      "/Users/leecarlin/Downloads/52002PS2/Sarah\\ MaarekSarah\\ Maarek_789422_assignsubmission_file_/Ex2_part1_sql_209966084_342532579\\ (1).ipynb \n",
      "\n",
      "/Users/leecarlin/Downloads/52002PS2/Noa\\ SchkolnikNoa\\ Schkolnik_789388_assignsubmission_file_/Ex2_part1_sql_template_208848317_311116867.ipynb \n",
      "\n",
      "/Users/leecarlin/Downloads/52002PS2/Yuval\\ WeissYuval\\ Weiss_789402_assignsubmission_file_/Ex2_part1_sql_311457501_204150395.ipynb \n",
      "\n",
      "/Users/leecarlin/Downloads/52002PS2/Shlomtzi\\ EvronShlomtzi\\ Evron_789415_assignsubmission_file_/Ex2_part1_sql_206788556_208380501\\ (2).ipynb \n",
      "\n",
      "/Users/leecarlin/Downloads/52002PS2/Alon\\ JacobyAlon\\ Jacoby_789391_assignsubmission_file_/Ex2_part1_sql_205950892_308023910.ipynb \n",
      "\n",
      "/Users/leecarlin/Downloads/52002PS2/Mordecha\\ Ben\\ YaacovMordecha\\ Ben\\ Yaacov_789398_assignsubmission_file_/Ex2_part1_sql_206124968_315453027.ipynb \n",
      "\n",
      "/Users/leecarlin/Downloads/52002PS2/Maayan\\ CohenMaayan\\ Cohen_789390_assignsubmission_file_/Ex2_part1_sql_template_205425846_316032598.ipynb \n",
      "\n",
      "/Users/leecarlin/Downloads/52002PS2/Olga\\ MorozOlga\\ Moroz_789392_assignsubmission_file_/Ex2_part1_sql_template_324756568_207438573.ipynb \n",
      "\n",
      "An exception occurred:\n",
      " /Users/leecarlin/Downloads/52002PS2/Asaf AvrahamAsaf Avraham_789397_assignsubmission_file_/Ex2_part1_sql_205986060_203664891 \n",
      "\n",
      "/Users/leecarlin/Downloads/52002PS2/Shira\\ EsudriShira\\ Esudri_789405_assignsubmission_file_/Ex2_part1_sql_208242693_206096588.ipynb \n",
      "\n",
      "/Users/leecarlin/Downloads/52002PS2/Alaa\\ Atrash_789428_assignsubmission_file_/Ex2_part1_sql_template.ipynb \n",
      "\n",
      "/Users/leecarlin/Downloads/52002PS2/Nofar\\ Gerassi_789425_assignsubmission_file_/Ex2_part1_sql_206327355.ipynb \n",
      "\n",
      "/Users/leecarlin/Downloads/52002PS2/Yoav\\ BlonderYoav\\ Blonder_789432_assignsubmission_file_/Ex2_part1_sql_204082408_205451628.ipynb \n",
      "\n",
      "/Users/leecarlin/Downloads/52002PS2/Chen\\ PortsiaChen\\ Portsia_789384_assignsubmission_file_/Ex2_part1_Ziv_Chen.ipynb \n",
      "\n",
      "/Users/leecarlin/Downloads/52002PS2/Rasha\\ Jaber_789418_assignsubmission_file_/Ex2_part1_sql_201003365.ipynb \n",
      "\n",
      "/Users/leecarlin/Downloads/52002PS2/Raphael\\ SiratRaphael\\ Sirat_789382_assignsubmission_file_/Ex2_part1_sql__208917930___31218881__ipynbipynb.ipynb \n",
      "\n",
      "/Users/leecarlin/Downloads/52002PS2/Dekel\\ KarpDekel\\ Karp_789426_assignsubmission_file_/Ex2_part1_sql_313465171__308504802ipynb.ipynb \n",
      "\n",
      "/Users/leecarlin/Downloads/52002PS2/Ram\\ Rami\\ MizrahiRam\\ Rami\\ Mizrahi_789409_assignsubmission_file_/Ex2_part1_sql__319096962___203053996_.ipynb \n",
      "\n",
      "/Users/leecarlin/Downloads/52002PS2/Shahar\\ MattokShahar\\ Mattok_789407_assignsubmission_file_/Ex2_part1_sql_314160227_313123143.ipynb \n",
      "\n",
      "/Users/leecarlin/Downloads/52002PS2/Arielle\\ LubickArielle\\ Lubick_789408_assignsubmission_file_/Ex2_part1_sql_318141223_305360992_204383038.ipynb \n",
      "\n",
      "/Users/leecarlin/Downloads/52002PS2/Ekaterina\\ DragunskaiaEkaterina\\ Dragunskaia_789379_assignsubmission_file_/Ex2_part1_sql_336250576_342430584.ipynb \n",
      "\n",
      "/Users/leecarlin/Downloads/52002PS2/Itay\\ HadashItay\\ Hadash_789403_assignsubmission_file_/Ex2_part1_sql_206094278_205926660.ipynb \n",
      "\n",
      "/Users/leecarlin/Downloads/52002PS2/Avi\\ SuritAvi\\ Surit_789434_assignsubmission_file_/Ex2_part1_sql_205373947_312292709.ipynb \n",
      "\n",
      "/Users/leecarlin/Downloads/52002PS2/Chen\\ CnaaniChen\\ Cnaani_789406_assignsubmission_file_/Ex2_part1_sql_205680226_313625386.ipynb \n",
      "\n",
      "/Users/leecarlin/Downloads/52002PS2/Abigail\\ GutmanAbigail\\ Gutman_789394_assignsubmission_file_/Ex2_part1_sql_318377686_312464274.ipynb \n",
      "\n",
      "/Users/leecarlin/Downloads/52002PS2/Eden\\ AnavimEden\\ Anavim_789435_assignsubmission_file_/Ex2_part1_sql_template_312280316_208346882.ipynb \n",
      "\n",
      "/Users/leecarlin/Downloads/52002PS2/Yoel\\ GraumannYoel\\ Graumann_789410_assignsubmission_file_/Ex2_part1_207026618_209497262.ipynb \n",
      "\n",
      "/Users/leecarlin/Downloads/52002PS2/David\\ Harar_789419_assignsubmission_file_/Ex2_part1_sql_203670872.ipynb \n",
      "\n",
      "/Users/leecarlin/Downloads/52002PS2/Noam\\ MalkiNoam\\ Malki_789433_assignsubmission_file_/Ex2_part1_sql_315358150_205468846.ipynb \n",
      "\n"
     ]
    }
   ],
   "source": [
    "for dir in os.listdir(path):\n",
    "    d = os.path.join(path, dir)\n",
    "    \n",
    "    # checking if it is a file\n",
    "    if not os.path.isfile(d):\n",
    "        for file in os.listdir(d):\n",
    "            f = os.path.join(d, file)\n",
    "            try:\n",
    "                if f.split(\".\")[1]=='ipynb':  \n",
    "                    f = f.replace(' ','\\ ')\n",
    "                    #print(exe.format(f))\n",
    "                    os.system(exe.format(f))\n",
    "                    #subprocess.call(exe.format(f))\n",
    "                    #transform_notebook(ipynb_file=f, \n",
    "                    #                   export_list=[\"html\"])\n",
    "                    print(f,'\\n')\n",
    "                    #print(f,'\\n')\n",
    "            except:\n",
    "                print(\"An exception occurred:\\n\",f,'\\n') \n",
    "            \n",
    "            \n",
    "\n"
   ]
  },
  {
   "cell_type": "code",
   "execution_count": null,
   "id": "facial-hygiene",
   "metadata": {},
   "outputs": [],
   "source": []
  }
 ],
 "metadata": {
  "kernelspec": {
   "display_name": "Python 3",
   "language": "python",
   "name": "python3"
  },
  "language_info": {
   "codemirror_mode": {
    "name": "ipython",
    "version": 3
   },
   "file_extension": ".py",
   "mimetype": "text/x-python",
   "name": "python",
   "nbconvert_exporter": "python",
   "pygments_lexer": "ipython3",
   "version": "3.9.1"
  }
 },
 "nbformat": 4,
 "nbformat_minor": 5
}
